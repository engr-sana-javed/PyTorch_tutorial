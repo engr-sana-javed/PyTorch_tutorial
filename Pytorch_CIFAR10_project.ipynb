{
 "cells": [
  {
   "cell_type": "code",
   "execution_count": 3,
   "metadata": {},
   "outputs": [
    {
     "name": "stdout",
     "output_type": "stream",
     "text": [
      "Downloading https://www.cs.toronto.edu/~kriz/cifar-10-python.tar.gz to ./data\\cifar-10-python.tar.gz\n"
     ]
    },
    {
     "data": {
      "application/vnd.jupyter.widget-view+json": {
       "model_id": "084a0630bd954a8b868fb7ff3fc99e02",
       "version_major": 2,
       "version_minor": 0
      },
      "text/plain": [
       "HBox(children=(IntProgress(value=0, max=170498071), HTML(value='')))"
      ]
     },
     "metadata": {},
     "output_type": "display_data"
    },
    {
     "name": "stdout",
     "output_type": "stream",
     "text": [
      "\n",
      "Extracting ./data\\cifar-10-python.tar.gz to ./data\n",
      "Files already downloaded and verified\n"
     ]
    }
   ],
   "source": [
    "import torch\n",
    "import torch.nn as nn\n",
    "import torch.nn.functional as F\n",
    "import torchvision\n",
    "import torchvision.transforms as transform\n",
    "\n",
    "\n",
    "train_data=torchvision.datasets.CIFAR10(\n",
    "    root='./data',\n",
    "    train=True,\n",
    "    download=True,\n",
    "    transform=torchvision.transforms.ToTensor()\n",
    ")\n",
    "\n",
    "\n",
    "test_data=torchvision.datasets.CIFAR10(\n",
    "    root='./data',\n",
    "    train=False,\n",
    "    download=True,\n",
    "    transform=torchvision.transforms.ToTensor()\n",
    ")\n"
   ]
  },
  {
   "cell_type": "code",
   "execution_count": 16,
   "metadata": {},
   "outputs": [
    {
     "name": "stdout",
     "output_type": "stream",
     "text": [
      "torch.Size([3, 32, 32])\n"
     ]
    }
   ],
   "source": [
    "import matplotlib.pyplot as plt\n",
    "sample=next(iter(train_data))\n",
    "image,lable=sample\n",
    "#plt.imshow(image.squeeze())\n",
    "print(image.shape)\n",
    "\n"
   ]
  },
  {
   "cell_type": "code",
   "execution_count": 15,
   "metadata": {},
   "outputs": [
    {
     "data": {
      "text/plain": [
       "<matplotlib.image.AxesImage at 0x20c00e9c550>"
      ]
     },
     "execution_count": 15,
     "metadata": {},
     "output_type": "execute_result"
    },
    {
     "data": {
      "image/png": "[encoded data removed]",
      "text/plain": [
       "<Figure size 432x288 with 1 Axes>"
      ]
     },
     "metadata": {
      "needs_background": "light"
     },
     "output_type": "display_data"
    }
   ],
   "source": [
    "import numpy as np\n",
    "test_loader=torch.utils.data.DataLoader(train_data,batch_size=4)\n",
    "train_loader=torch.utils.data.DataLoader(test_data,batch_size=4)\n",
    "\n",
    "\n",
    "batch=next(iter(test_loader))\n",
    "images,labels=batch\n",
    "grid=torchvision.utils.make_grid(images,nrow=5)\n",
    "plt.imshow(np.transpose(grid))\n"
   ]
  },
  {
   "cell_type": "code",
   "execution_count": 18,
   "metadata": {},
   "outputs": [],
   "source": [
    "\n",
    "class network(nn.Module):\n",
    "    def __init__(self):\n",
    "        super(network,self).__init__()\n",
    "        self.conv1=torch.nn.Conv2d(3,6,5)\n",
    "        self.conv2=torch.nn.Conv2d(6,16,5)\n",
    "        self.pool=torch.nn.MaxPool2d(2,stride=2)\n",
    "        self.fc1=torch.nn.Linear(16*5*5,120)\n",
    "        self.fc2=torch.nn.Linear(120,84)\n",
    "        self.fc3=torch.nn.Linear(84,10)\n",
    "        \n",
    "        \n",
    "    def forward(self,x):\n",
    "        t=self.conv1(x)\n",
    "        t=F.relu(t)\n",
    "        t=F.max_pool2d(t,2,2)\n",
    "        t=self.conv2(t)\n",
    "        t=F.relu(t)\n",
    "        t=F.max_pool2d(t,2,2)\n",
    "        t=t.reshape(-1,16*5*5)\n",
    "        t=self.fc1(t)\n",
    "        t=F.relu(t)\n",
    "        t=self.fc2(t)\n",
    "        t=F.relu(t)\n",
    "        t = torch.log_softmax(self.fc3(t), dim=1)    # NLLLoss() \n",
    "        return t\n",
    "        \n",
    "        \n",
    "        "
   ]
  },
  {
   "cell_type": "code",
   "execution_count": 20,
   "metadata": {},
   "outputs": [
    {
     "name": "stdout",
     "output_type": "stream",
     "text": [
      "network(\n",
      "  (conv1): Conv2d(3, 6, kernel_size=(5, 5), stride=(1, 1))\n",
      "  (conv2): Conv2d(6, 16, kernel_size=(5, 5), stride=(1, 1))\n",
      "  (pool): MaxPool2d(kernel_size=2, stride=2, padding=0, dilation=1, ceil_mode=False)\n",
      "  (fc1): Linear(in_features=400, out_features=120, bias=True)\n",
      "  (fc2): Linear(in_features=120, out_features=84, bias=True)\n",
      "  (fc3): Linear(in_features=84, out_features=10, bias=True)\n",
      ")\n"
     ]
    }
   ],
   "source": [
    "model=network()\n",
    "print(model)"
   ]
  },
  {
   "cell_type": "markdown",
   "metadata": {},
   "source": [
    "## training gradient"
   ]
  },
  {
   "cell_type": "code",
   "execution_count": 29,
   "metadata": {},
   "outputs": [
    {
     "name": "stdout",
     "output_type": "stream",
     "text": [
      "loss 2.317543,batch 0\n",
      "loss 232.399119,batch 400\n",
      "loss 462.464248,batch 800\n",
      "loss 692.607054,batch 1200\n",
      "loss 922.770098,batch 1600\n",
      "loss 1152.798856,batch 2000\n",
      "loss 1382.642111,batch 2400\n",
      "loss 1612.590524,batch 2800\n",
      "loss 1842.635410,batch 3200\n",
      "loss 2072.530969,batch 3600\n",
      "loss 2302.493472,batch 4000\n",
      "loss 2532.431180,batch 4400\n",
      "loss 2762.509025,batch 4800\n",
      "loss 2992.389685,batch 5200\n",
      "loss 3222.219953,batch 5600\n",
      "loss 3452.069724,batch 6000\n",
      "loss 3681.866255,batch 6400\n",
      "loss 3911.729890,batch 6800\n",
      "loss 4141.480750,batch 7200\n",
      "loss 4371.494120,batch 7600\n",
      "loss 4601.201700,batch 8000\n",
      "loss 4831.378952,batch 8400\n",
      "loss 5061.435243,batch 8800\n",
      "loss 5291.135092,batch 9200\n",
      "loss 5520.892524,batch 9600\n",
      "5748.222904920578\n",
      "loss 2.284354,batch 0\n",
      "loss 231.860030,batch 400\n",
      "loss 461.711259,batch 800\n",
      "loss 691.415220,batch 1200\n",
      "loss 921.514166,batch 1600\n",
      "loss 1151.144218,batch 2000\n",
      "loss 1380.586905,batch 2400\n",
      "loss 1610.204710,batch 2800\n",
      "loss 1839.811785,batch 3200\n",
      "loss 2069.401513,batch 3600\n",
      "loss 2299.061085,batch 4000\n",
      "loss 2528.517254,batch 4400\n",
      "loss 2758.256895,batch 4800\n",
      "loss 2987.722811,batch 5200\n",
      "loss 3217.224902,batch 5600\n",
      "loss 3446.825851,batch 6000\n",
      "loss 3675.988299,batch 6400\n",
      "loss 3905.268559,batch 6800\n",
      "loss 4134.526530,batch 7200\n",
      "loss 4364.140936,batch 7600\n",
      "loss 4593.214557,batch 8000\n",
      "loss 4822.725708,batch 8400\n",
      "loss 5052.459876,batch 8800\n",
      "loss 5281.284030,batch 9200\n",
      "loss 5510.246170,batch 9600\n",
      "5736.717687129974\n",
      "loss 2.211643,batch 0\n",
      "loss 230.723096,batch 400\n",
      "loss 460.144548,batch 800\n",
      "loss 688.938481,batch 1200\n",
      "loss 918.699597,batch 1600\n",
      "loss 1147.459732,batch 2000\n",
      "loss 1376.036714,batch 2400\n",
      "loss 1604.838800,batch 2800\n",
      "loss 1833.565318,batch 3200\n",
      "loss 2062.516995,batch 3600\n",
      "loss 2291.478479,batch 4000\n",
      "loss 2519.893979,batch 4400\n",
      "loss 2748.871070,batch 4800\n",
      "loss 2977.433106,batch 5200\n",
      "loss 3206.239455,batch 5600\n",
      "loss 3435.154911,batch 6000\n",
      "loss 3663.127856,batch 6400\n",
      "loss 3891.184109,batch 6800\n",
      "loss 4119.385455,batch 7200\n",
      "loss 4347.929024,batch 7600\n",
      "loss 4575.674157,batch 8000\n",
      "loss 4803.785850,batch 8400\n",
      "loss 5032.422421,batch 8800\n",
      "loss 5259.619396,batch 9200\n",
      "loss 5486.989493,batch 9600\n",
      "5711.70703625679\n"
     ]
    }
   ],
   "source": [
    "\n",
    "optim=torch.optim.SGD(model.parameters(),lr=0.001)\n",
    "torch.set_grad_enabled(True)\n",
    "\n",
    "for ep in range(3):\n",
    "    total_loss=0\n",
    "    for batch, (x, y) in enumerate(train_loader):\n",
    "        y_pred=model(x)\n",
    "        loss=F.cross_entropy(y_pred,y)\n",
    "        optim.zero_grad()\n",
    "        loss.backward()\n",
    "        optim.step()\n",
    "        total_loss+=loss.item()\n",
    "        if batch%100==0:\n",
    "            print(f\"loss {total_loss:>7f},batch {batch*len(images)}\")\n",
    "    print(total_loss)"
   ]
  },
  {
   "cell_type": "code",
   "execution_count": 31,
   "metadata": {},
   "outputs": [
    {
     "name": "stdout",
     "output_type": "stream",
     "text": [
      "Test Error: \n",
      " Accuracy: 10.1%\n",
      "loss 28812.037271,correct 0.10072\n"
     ]
    }
   ],
   "source": [
    "testloss=0\n",
    "correct=0\n",
    "size = len(test_loader.dataset)\n",
    "with torch.no_grad():\n",
    "    for X, y in test_loader:\n",
    "        ypred=model(x)\n",
    "        testloss=testloss+F.cross_entropy(ypred,y).item()\n",
    "        correct=correct+(ypred.argmax(1)==y).sum().item()\n",
    "    correct /= size\n",
    "    print(f\"Test Error: \\n Accuracy: {(100*correct):>0.1f}%\")\n",
    "    print(f\"loss {testloss:>7f},correct {correct}\")"
   ]
  },
  {
   "cell_type": "code",
   "execution_count": 36,
   "metadata": {},
   "outputs": [],
   "source": [
    "def get_all_preds(model, laoder):\n",
    "    all_pred=torch.tensor([])\n",
    "    for batch in laoder:\n",
    "        images,labels=batch\n",
    "        preds=model(images)\n",
    "        all_pred=torch.cat((all_pred,preds),dim=0)\n",
    "    return all_pred"
   ]
  },
  {
   "cell_type": "code",
   "execution_count": 37,
   "metadata": {},
   "outputs": [],
   "source": [
    "with torch.no_grad():\n",
    "    prediction_loader = torch.utils.data.DataLoader(train_data, batch_size=4)\n",
    "    train_preds = get_all_preds(model, prediction_loader)"
   ]
  },
  {
   "cell_type": "code",
   "execution_count": 38,
   "metadata": {},
   "outputs": [
    {
     "name": "stdout",
     "output_type": "stream",
     "text": [
      "Saved PyTorch Model State to model1.pth\n"
     ]
    },
    {
     "data": {
      "text/plain": [
       "<All keys matched successfully>"
      ]
     },
     "execution_count": 38,
     "metadata": {},
     "output_type": "execute_result"
    }
   ],
   "source": [
    "torch.save(model.state_dict(), \"model1.pth\")\n",
    "print(\"Saved PyTorch Model State to model1.pth\")\n",
    "\n",
    "model.load_state_dict(torch.load(\"model1.pth\"))"
   ]
  },
  {
   "cell_type": "code",
   "execution_count": null,
   "metadata": {},
   "outputs": [],
   "source": []
  },
  {
   "cell_type": "code",
   "execution_count": null,
   "metadata": {},
   "outputs": [],
   "source": []
  }
 ],
 "metadata": {
  "kernelspec": {
   "display_name": "Python 3",
   "language": "python",
   "name": "python3"
  },
  "language_info": {
   "codemirror_mode": {
    "name": "ipython",
    "version": 3
   },
   "file_extension": ".py",
   "mimetype": "text/x-python",
   "name": "python",
   "nbconvert_exporter": "python",
   "pygments_lexer": "ipython3",
   "version": "3.7.1"
  }
 },
 "nbformat": 4,
 "nbformat_minor": 2
}
